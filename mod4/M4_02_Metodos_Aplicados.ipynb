{
 "cells": [
  {
   "cell_type": "markdown",
   "metadata": {},
   "source": [
    "# Ejercicios Modulo 2. Unidad 2. Métodos aplicados (Soluciones)\n",
    "\n",
    "Consideraciones a tener en cuenta: \n",
    "\n",
    "* Guardar este documento con el siguiente formato para su entrega: __M4_02_nombre_apellido1_apellido2__\n",
    "* Realizar los ejercicios con las herramientas vistas en las sesiones. \n",
    "* Comentar el código\n",
    "* Utilizar nombres de variables apropiados, si vais a guardar una nota, llamar a esa variable nota, no n o x"
   ]
  },
  {
   "cell_type": "markdown",
   "metadata": {},
   "source": [
    "**1) Solicita por teclado un texto al usuario y decir si:**\n",
    "* El texto es una cadena de texto\n",
    "* El texto es una cadena de dígitos\n",
    "* El texto incluye caracteres y números"
   ]
  },
  {
   "cell_type": "code",
   "execution_count": 1,
   "metadata": {},
   "outputs": [
    {
     "name": "stdout",
     "output_type": "stream",
     "text": [
      "El texto combina letras y dígitos:\n",
      " jkbsdvbkjsbjk4\n"
     ]
    }
   ],
   "source": [
    "\"\"\"Para resolver correctamente este ejercicio emplearemos dos métodos de Python que comprueban si un string está formado en su totalidad por letras o por dígitos.\n",
    "\n",
    "Los métodos son:\n",
    "-> isalpha() para comprobar si son letras.\n",
    "-> isdigit() para comprobar si son números.\n",
    "\"\"\"\n",
    "\n",
    "# Solicitamos al usuario que introduzca un texto\n",
    "user_input = input(\"Introduce un texto cualquiera, que contenga letras, números o ambas:\")\n",
    "\n",
    "# Planteamos la condición que compruebe el texto introducido en el input\n",
    "if user_input.isalpha():\n",
    "    print(\"El texto son todo letras:\\n\",user_input)\n",
    "elif user_input.isdigit():\n",
    "    print(\"El texto son todo dígitos:\\n\",user_input)\n",
    "else:\n",
    "    print(\"El texto combina letras y dígitos:\\n\",user_input)"
   ]
  },
  {
   "cell_type": "markdown",
   "metadata": {},
   "source": [
    "**2) Solicita al usuario un texto y una palabra a buscar dentro del texto. Si la localiza, extraer desde esa posición hasta el final de la frase y almacenarlo en otra variable.** \n",
    "* Ejemplo de texto: Hola mundo que tal \n",
    "* Buscamos: mundo \n",
    "* Resultado: mundo que tal"
   ]
  },
  {
   "cell_type": "code",
   "execution_count": 11,
   "metadata": {},
   "outputs": [
    {
     "name": "stdout",
     "output_type": "stream",
     "text": [
      "El texto introducido por el usario:\n",
      " hola mi gente latino\n",
      "Este es el resultado:  mi gente latino\n"
     ]
    }
   ],
   "source": [
    "# Solicitamos el texto y la palabra para la búsqueda\n",
    "user_text = input(\"Introduce un texto:\")\n",
    "print(\"El texto introducido por el usario:\\n\", user_text)\n",
    "\n",
    "word_request = input(\"Especifica la palabra que quieres buscar dentro del texto: \")\n",
    "\n",
    "# Búscamos la palabra dentro del texto\n",
    "position = user_text.find(word_request) # find() nos devuelve el indice desde donde empieza esta palabra\n",
    "\n",
    "if position != -1:\n",
    "    # Extraemos todo el texto restante desde la posición hasta el final empleando slicing\n",
    "    result = user_text[position:]\n",
    "    print(\"Este es el resultado: \", result)\n",
    "else:\n",
    "    print(\"no hemos encontrado la palabra {} en el texto.\".format(word_request))\n"
   ]
  },
  {
   "cell_type": "markdown",
   "metadata": {},
   "source": [
    "**3) Partiendo de una frase con diferentes palabras separadas por espacios, crear una lista donde cada elemento sea cada palabra del texto. Mostrar dicha lista y mostrar el número de veces que se encuentra la palabra mundo en esa lista**"
   ]
  },
  {
   "cell_type": "code",
   "execution_count": 16,
   "metadata": {},
   "outputs": [
    {
     "name": "stdout",
     "output_type": "stream",
     "text": [
      "['Hola', 'mundo,', 'bienvenido', 'al', 'maravilloso', 'mundo', 'de', 'la', 'programación!', 'En', 'este', 'mundo,', 'exploraremos', 'juntos', 'el', 'vasto', 'mundo', 'de', 'las', 'posibilidades,', 'descubriendo', 'un', 'mundo', 'lleno', 'de', 'desafíos', 'y', 'logros.', '¡Vamos', 'a', 'hacer', 'del', 'mundo', 'digital', 'nuestro', 'terreno', 'de', 'juego', 'y', 'crear', 'un', 'mundo', 'mejor', 'para', 'todos', 'en', 'el', 'mundo', 'real!']\n",
      "\n",
      "El número de veces que se repite la palabra 'mundo' es:  6\n"
     ]
    }
   ],
   "source": [
    "frase_inicial = \"Hola mundo, bienvenido al maravilloso mundo de la programación! En este mundo, exploraremos juntos el vasto mundo de las posibilidades, descubriendo un mundo lleno de desafíos y logros. ¡Vamos a hacer del mundo digital nuestro terreno de juego y crear un mundo mejor para todos en el mundo real!\"\n",
    "\n",
    "listado_palabras = frase_inicial.split()\n",
    "print(listado_palabras)\n",
    "\n",
    "result = listado_palabras.count(\"mundo\")\n",
    "print(\"\\nEl número de veces que se repite la palabra 'mundo' es: \", result)"
   ]
  }
 ],
 "metadata": {
  "anaconda-cloud": {},
  "kernelspec": {
   "display_name": "Python 3",
   "language": "python",
   "name": "python3"
  },
  "language_info": {
   "codemirror_mode": {
    "name": "ipython",
    "version": 3
   },
   "file_extension": ".py",
   "mimetype": "text/x-python",
   "name": "python",
   "nbconvert_exporter": "python",
   "pygments_lexer": "ipython3",
   "version": "3.11.5"
  },
  "vscode": {
   "interpreter": {
    "hash": "aee8b7b246df8f9039afb4144a1f6fd8d2ca17a180786b69acc140d282b71a49"
   }
  }
 },
 "nbformat": 4,
 "nbformat_minor": 1
}
