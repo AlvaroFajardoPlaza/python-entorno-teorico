{
 "cells": [
  {
   "cell_type": "markdown",
   "metadata": {},
   "source": [
    "# Ejercicios Modulo 4. Unidad 3. Errores y Excepciones\n",
    "\n",
    "Consideraciones a tener en cuenta: \n",
    "\n",
    "* Guardar este documento con el siguiente formato para su entrega: __M4_03_nombre_apellido1_apellido2__\n",
    "* Realizar los ejercicios con las herramientas vistas en las sesiones. \n",
    "* Comentar el código\n",
    "* Utilizar nombres de variables apropiados, si vais a guardar una nota, llamar a esa variable nota, no n o x"
   ]
  },
  {
   "cell_type": "markdown",
   "metadata": {},
   "source": [
    "**Identificar los errores en los siguiente bloques de código y evaluarlos con excepciones especificas para evitar errores no controlados en nuestros programas. Añade mensajes explicativos para el usuario.**\n",
    "<br>_Nota: Se tienen que evaluar excepciones concretas, no hacer referencia a Exception sin más._"
   ]
  },
  {
   "cell_type": "markdown",
   "metadata": {},
   "source": [
    "**1) Código a evaluar:**"
   ]
  },
  {
   "cell_type": "code",
   "execution_count": 5,
   "metadata": {},
   "outputs": [
    {
     "name": "stdout",
     "output_type": "stream",
     "text": [
      "No se puede dividir entre 0\n",
      "No puedes dividir entre un string.\n",
      "Resultado de division de 7/3 = 2.3333333333333335\n"
     ]
    }
   ],
   "source": [
    "# numero = 7/0\n",
    "def division(num):\n",
    "    try:\n",
    "        if num == 0:\n",
    "            raise ZeroDivisionError()\n",
    "        else:\n",
    "            print(\"Resultado de division de 7/{} = {}\".format(num, 7 / num))\n",
    "    except ZeroDivisionError:\n",
    "        print(\"No se puede dividir entre 0\")\n",
    "    except TypeError:\n",
    "        print(\"No puedes dividir entre un string.\")\n",
    "    except Exception as e:\n",
    "        print(type(e).__name__)\n",
    "        print(\"Error desconocido.\")\n",
    "\n",
    "division(0)\n",
    "division(\"hola\")\n",
    "division(3)"
   ]
  },
  {
   "cell_type": "markdown",
   "metadata": {},
   "source": [
    "**2) Código a evaluar:**"
   ]
  },
  {
   "cell_type": "code",
   "execution_count": 47,
   "metadata": {},
   "outputs": [
    {
     "name": "stdout",
     "output_type": "stream",
     "text": [
      "No podemos acceder a este index ya que la longitud total de la lista es: 5\n"
     ]
    }
   ],
   "source": [
    "lista = [4, 7, 30, 23, 5]\n",
    "#lista[10] # No podemos acceder a este índice ya que no existen tantos elementos dentro de nuestro array > Index error\n",
    "try:\n",
    "    item = lista[7]\n",
    "except IndexError:\n",
    "    print(\"No podemos acceder a este index ya que la longitud total de la lista es: {}\".format(len(lista)))\n",
    "except NameError:\n",
    "    print(\"Error al introducir el nombre a buscar.\")\n",
    "except Exception as e:\n",
    "    print(type(e).__name__)\n",
    "    print(\"Error desconocido\")"
   ]
  },
  {
   "cell_type": "markdown",
   "metadata": {},
   "source": [
    "**3) Código a evaluar:**"
   ]
  },
  {
   "cell_type": "code",
   "execution_count": 45,
   "metadata": {},
   "outputs": [
    {
     "name": "stdout",
     "output_type": "stream",
     "text": [
      "La clave 'alemania' no existe dentro del diccionario\n"
     ]
    }
   ],
   "source": [
    "# Casuística similar al intentar acceder a una key que no existe dentro de nuestro diccionario\n",
    "paises = { \"españa\":\"español\", \"eeuu\":\"inglés\", \"italia\":\"italiano\" } \n",
    "# paises[\"alemania\"]\n",
    "\n",
    "try:\n",
    "    idioma = paises[\"alemania\"]\n",
    "    print(\"El idioma que buscas es {}.\".format(idioma))\n",
    "except KeyError:\n",
    "    print(\"La clave 'alemania' no existe dentro del diccionario\")\n",
    "    user_choice = input(\"Quieres añadir la clave? y/n\")\n",
    "    if user_choice.lower() == 'y':\n",
    "        paises[\"alemania\"] = \"alemán\"\n",
    "        print(\"\\nLa lista actualizada:\", paises)\n",
    "    elif user_choice.lower() == 'n':\n",
    "        pass\n",
    "    else:\n",
    "        print(\"Invaid choice\")\n",
    "except Exception as e:\n",
    "    print(type(e).__name__)\n",
    "    print(\"Error desconocido.\")"
   ]
  },
  {
   "cell_type": "markdown",
   "metadata": {},
   "source": [
    "**4) Localiza el error en el siguiente bloque de código.  Crea una excepción para evitar que el programa se bloquee y además explica en un mensaje al usuario la causa y/o solución:**"
   ]
  },
  {
   "cell_type": "code",
   "execution_count": 36,
   "metadata": {},
   "outputs": [
    {
     "name": "stdout",
     "output_type": "stream",
     "text": [
      "No podemos realizar la operación debido a un error de tipos\n",
      "No podemos sumar con el valor introducido -> djak\n"
     ]
    }
   ],
   "source": [
    "#resultado = \"2\" + 10\n",
    "\"\"\"Esta casuística es similar al ejercicio 1 ya que no podemos sumar un string a un integer.\"\"\"\n",
    "\n",
    "try:\n",
    "    result = \"2\" + 10\n",
    "except TypeError as e:\n",
    "    print(\"No podemos realizar la operación debido a un error de tipos\")\n",
    "except Exception as e:\n",
    "    print(type(e).__name__)\n",
    "    print(\"Error desconocido.\")\n",
    "\n",
    "\n",
    "\"\"\"Vamos a intentar realizar igualmente la operación transformando el número\"\"\"\n",
    "def suma(num = \"2\"):\n",
    "    try:\n",
    "        if type(num) == str :\n",
    "            converted_num = float(num)\n",
    "            result = converted_num + 10\n",
    "            return result\n",
    "        else:\n",
    "            return num + 10\n",
    "    except ValueError:\n",
    "                print(\"No podemos sumar con el valor introducido ->\", num)\n",
    "    except Exception as e:\n",
    "        print(type(e).__name__)\n",
    "        print(\"Error desconocido.\")\n",
    "suma()\n",
    "suma(\"djak\")\n"
   ]
  },
  {
   "cell_type": "markdown",
   "metadata": {},
   "source": [
    "**5) Realiza una función llamada agregar_sin_repetidos() que reciba una lista y un elemento. La función debe añadir el elemento al final de la lista con la condición de no repetir ningún elemento. Además si este elemento ya se encuentra en la lista se debe invocar un error de tipo ValueError que debes capturar y mostrar este mensaje en su lugar:**\n",
    "\n",
    "```\n",
    "  Error: Imposible añadir elementos duplicados => [elemento].\n",
    "```\n",
    "**Prueba a agregar los elementos 7, \"Python\" y 5 a través de la función agregar_sin_repetidos() e imprime la lista completa al finalizar.**\n",
    "\n",
    "*Pista: Puedes utilizar la sintaxis: elemento in lista*"
   ]
  },
  {
   "cell_type": "code",
   "execution_count": 60,
   "metadata": {},
   "outputs": [
    {
     "name": "stdout",
     "output_type": "stream",
     "text": [
      "La lista actualizada: [3, 5, 10, 7]\n",
      "La lista actualizada: [3, 5, 10, 7, 'Python']\n",
      "El 5 existe dentro de la lita\n"
     ]
    }
   ],
   "source": [
    "class ElementExistsInListException(Exception):\n",
    "    def __init__(self, element):\n",
    "        self.element = element\n",
    "        super().__init__(\"El {} existe dentro de la lita\".format(self.element))\n",
    "    def __str__(self):\n",
    "        return \"El {} existe dentro de la lita\".format(self.element)\n",
    "\n",
    "elementos = [3, 5, 10]\n",
    "\n",
    "def agregar_sin_repetidos(lista, elem):\n",
    "    try:\n",
    "        if elem in lista:\n",
    "            #print(\"{} existe dentro de {}\".format(elem, lista)) # Aquí debemos emplear raise ElementExistsInListException()\n",
    "            raise ElementExistsInListException(elem)\n",
    "        else: \n",
    "            lista.append(elem)\n",
    "            print(\"La lista actualizada:\", lista)\n",
    "    except ElementExistsInListException as e:\n",
    "        #print(type(e).__name__)\n",
    "        print(e)\n",
    "    except Exception as e:\n",
    "        print(type(e).__name__)\n",
    "        print(\"Error descnocido.\")\n",
    "\n",
    "agregar_sin_repetidos(elementos, 7)\n",
    "agregar_sin_repetidos(elementos, \"Python\")\n",
    "agregar_sin_repetidos(elementos, 5)\n"
   ]
  },
  {
   "cell_type": "markdown",
   "metadata": {},
   "source": [
    "**6) Busca en la documentación otra excepción que no se haya utilizado hasta ahora y realiza los siguientes pasos:**\n",
    "* Provoca el error en un código de ejemplo. \n",
    "* Una vez que las hayas provocado, contrólalas con try-except\n",
    "* Muestra al usuario la información por defecto que proporcione la excepción. Pista: as\n",
    "* Personaliza el mensaje que se le proporciona al usuario utilizando todo lo anterior"
   ]
  },
  {
   "cell_type": "code",
   "execution_count": 63,
   "metadata": {},
   "outputs": [
    {
     "name": "stdout",
     "output_type": "stream",
     "text": [
      "El archivo no existe. [Errno 2] No such file or directory: 'database.sqlite' --> \n"
     ]
    }
   ],
   "source": [
    "\"\"\"OSError\n",
    "\n",
    "Excepción base para manejar errores con el sistema operativo\n",
    "FileNotFound, PermissionError, entre otros, son clases de excepción para manejar estos errores.\"\"\"\n",
    "try:\n",
    "    open(\"database.sqlite\")\n",
    "except FileNotFoundError as e:\n",
    "    print(\"El archivo no existe. {} --> \".format(e, type(e).__name__))\n",
    "except OSError as e:\n",
    "    print(type(e).__name__)\n",
    "    print(e)"
   ]
  }
 ],
 "metadata": {
  "anaconda-cloud": {},
  "kernelspec": {
   "display_name": "Python 3",
   "language": "python",
   "name": "python3"
  },
  "language_info": {
   "codemirror_mode": {
    "name": "ipython",
    "version": 3
   },
   "file_extension": ".py",
   "mimetype": "text/x-python",
   "name": "python",
   "nbconvert_exporter": "python",
   "pygments_lexer": "ipython3",
   "version": "3.11.5"
  },
  "vscode": {
   "interpreter": {
    "hash": "aee8b7b246df8f9039afb4144a1f6fd8d2ca17a180786b69acc140d282b71a49"
   }
  }
 },
 "nbformat": 4,
 "nbformat_minor": 1
}
