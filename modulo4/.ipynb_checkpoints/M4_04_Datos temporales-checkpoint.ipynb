{
 "cells": [
  {
   "cell_type": "markdown",
   "metadata": {},
   "source": [
    "# Ejercicios Modulo 4. Unidad 4. Datos temporales (Soluciones)\n",
    "\n",
    "Consideraciones a tener en cuenta: \n",
    "\n",
    "* Guardar este documento con el siguiente formato para su entrega: __M4_04_nombre_apellido1_apellido2__\n",
    "* Realizar los ejercicios con las herramientas vistas en las sesiones. \n",
    "* Comentar el código\n",
    "* Utilizar nombres de variables apropiados, si vais a guardar una nota, llamar a esa variable nota, no n o x"
   ]
  },
  {
   "cell_type": "markdown",
   "metadata": {},
   "source": [
    "**1) Dadas las dos siguientes fechas, que corresponden a las fechas de nacimiento de dos hermanos (en la zona horaria de Europe/Madrid), indica cual es la diferencia entre ellos en días, horas, minutos y segundos**"
   ]
  },
  {
   "cell_type": "code",
   "execution_count": 4,
   "metadata": {},
   "outputs": [
    {
     "name": "stdout",
     "output_type": "stream",
     "text": [
      "Diferencia en días: 2440 días\n",
      "Diferencia en horas: 0 horas\n",
      "Diferencia en minutos: 35 minutos\n",
      "Diferencia en segundos: 0 segundos\n"
     ]
    }
   ],
   "source": [
    "\"\"\"Con el módulo de pyzt podemos averiguar la hora actual de cualquier parte del mundo\"\"\"\n",
    "\n",
    "from datetime import *\n",
    "import pytz\n",
    "\n",
    "print(datetime.now(pytz.timezone('Europe/Madrid')))\n",
    "\n",
    "hijo1 = datetime(1985, 10, 20, 17, 55)\n",
    "hijo2 = datetime(1992, 6, 25, 18, 30)\n",
    "\n",
    "hijo1 = datetime(1985, 10, 20, 17, 55, tzinfo=pytz.timezone('Europe/Madrid'))\n",
    "hijo2 = datetime(1992, 6, 25, 18, 30, tzinfo=pytz.timezone('Europe/Madrid'))\n",
    "\n",
    "# Calcular la diferencia entre las fechas\n",
    "diferencia = hijo2 - hijo1\n",
    "\n",
    "# Extraer días, horas, minutos y segundos\n",
    "dias = diferencia.days\n",
    "segundos_totales = diferencia.seconds\n",
    "horas, segundos = divmod(segundos_totales, 3600)\n",
    "minutos, segundos = divmod(segundos, 60)\n",
    "\n",
    "# Imprimir el resultado\n",
    "print('Diferencia en días: {} días'.format(dias))\n",
    "print('Diferencia en horas: {} horas'.format(horas))\n",
    "print('Diferencia en minutos: {} minutos'.format(minutos))\n",
    "print('Diferencia en segundos: {} segundos'.format(segundos))\n"
   ]
  },
  {
   "cell_type": "markdown",
   "metadata": {},
   "source": [
    "**2) Crea una función que se llame formato_fecha() que reciba por parámetro una fecha del tipo datetime y nos devuelva el siguiente formato: \"20 de Abril del 2020\".**\n",
    "\n",
    "**En muchas ocasiones nuestros sistemas estan configurados de forma predeterminada en inglés, y no se puede cambiar la localidad a español. Por lo tanto, tenemos que aprender a seleccionar y mostrar los meses en español a pesar de que nuestro sistema se encuentre en inglés o en otro idioma. Crear una tupla para almacenar el listado de meses en español para poder seleccionar el nombre del mes adecuado en función a una fecha que le proporcionemos al programa. Queda prohibído utilizar metodos como locale, setlocale o strftime.**\n",
    "\n",
    "**Prueba la función enviándole una fecha predefinida por ti y la fecha actual (now)**"
   ]
  },
  {
   "cell_type": "code",
   "execution_count": 23,
   "metadata": {},
   "outputs": [
    {
     "name": "stdout",
     "output_type": "stream",
     "text": [
      "2023-12-05 09:01:50.202408\n",
      "----\n",
      "5 de Diciembre del 2023\n",
      "----\n",
      "25 de Mayo del 2015\n"
     ]
    }
   ],
   "source": [
    "# Nuestros imports necesarios\n",
    "from datetime import datetime, date, time, timedelta\n",
    "\n",
    "print(datetime.now())\n",
    "fecha_hora_actual = datetime.now()\n",
    "fecha_random1 = datetime(2015, 5, 25)\n",
    "\n",
    "#Creamos la función que recibirá una fecha en formato datetime\n",
    "def formato_fecha(date) -> str:\n",
    "    # Generamos nuestra tupla. Comprobamos que todo está en orden.\n",
    "    meses = ('Enero', 'Febrero', 'Marzo', 'Abril', 'Mayo', 'Junio', 'Julio', 'Agosto', 'Septiembre', 'Octubre', 'Noviembre', 'Diciembre')\n",
    "    # print(len(meses))\n",
    "    # print(meses[5])\n",
    "\n",
    "    day = date.day\n",
    "    month = date.month\n",
    "    year = date.year\n",
    "    \n",
    "    # Realizamos la traducción del mes buscando por su posición dentro de la tupla\n",
    "    month_position = int(month)\n",
    "    month_extracted = meses[month_position - 1]\n",
    "\n",
    "    # Retornamos el string resultante    \n",
    "    return print(\"----\\n{} de {} del {}\".format(day, month_extracted, year))\n",
    "\n",
    "formato_fecha(fecha_hora_actual)\n",
    "formato_fecha(fecha_random1)\n"
   ]
  },
  {
   "cell_type": "markdown",
   "metadata": {},
   "source": [
    "**3) Utilizando strftime y formatea la fecha actual para que salga con el siguiente formato (sin los puntos):**\n",
    "* Día: 20\n",
    "* Mes: 04\n",
    "* Año: 2020\n",
    "* Hora: 16\n",
    "* Minutos: 19\n",
    "* Segundos (y milisegundos): 08.879057"
   ]
  },
  {
   "cell_type": "code",
   "execution_count": 34,
   "metadata": {
    "scrolled": true
   },
   "outputs": [
    {
     "name": "stdout",
     "output_type": "stream",
     "text": [
      "Día: 5\n",
      "Mes: 12\n",
      "Año: 23\n",
      "Hora: 09\n",
      "Minutos: 34\n",
      "Segundo (y milisegundos): 17.647323\n"
     ]
    }
   ],
   "source": [
    "# Completa el ejercicio aquí\n",
    "from datetime import datetime\n",
    "\n",
    "fecha_hora_actual = datetime.now()\n",
    "\n",
    "# Creamos una función que recoja la fecha actual y transforme el resultado en el solicitado en el ejercicio\n",
    "def format_date(fecha) -> str:\n",
    "    return print(\"Día:{}\\nMes: {}\\nAño: {}\\nHora: {}\\nMinutos: {}\\nSegundo (y milisegundos): {}\".format(fecha.strftime(\"%e\"),\n",
    "                                                                                                          fecha.strftime(\"%m\"),\n",
    "                                                                                                          fecha.strftime(\"%g\"),\n",
    "                                                                                                          fecha.strftime(\"%H\"),\n",
    "                                                                                                          fecha.strftime(\"%M\"),\n",
    "                                                                                                          fecha.strftime(\"%S.%f\")))\n",
    "\n",
    "format_date(fecha_hora_actual)\n",
    "    "
   ]
  }
 ],
 "metadata": {
  "anaconda-cloud": {},
  "kernelspec": {
   "display_name": "Python 3 (ipykernel)",
   "language": "python",
   "name": "python3"
  },
  "language_info": {
   "codemirror_mode": {
    "name": "ipython",
    "version": 3
   },
   "file_extension": ".py",
   "mimetype": "text/x-python",
   "name": "python",
   "nbconvert_exporter": "python",
   "pygments_lexer": "ipython3",
   "version": "3.11.5"
  },
  "vscode": {
   "interpreter": {
    "hash": "aee8b7b246df8f9039afb4144a1f6fd8d2ca17a180786b69acc140d282b71a49"
   }
  }
 },
 "nbformat": 4,
 "nbformat_minor": 1
}
