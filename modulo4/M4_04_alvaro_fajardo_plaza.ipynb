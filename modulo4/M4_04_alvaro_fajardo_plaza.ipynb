{
 "cells": [
  {
   "cell_type": "markdown",
   "metadata": {},
   "source": [
    "# Ejercicios Modulo 4. Unidad 4. Datos temporales (Soluciones)\n",
    "\n",
    "Consideraciones a tener en cuenta: \n",
    "\n",
    "* Guardar este documento con el siguiente formato para su entrega: __M4_04_nombre_apellido1_apellido2__\n",
    "* Realizar los ejercicios con las herramientas vistas en las sesiones. \n",
    "* Comentar el código\n",
    "* Utilizar nombres de variables apropiados, si vais a guardar una nota, llamar a esa variable nota, no n o x"
   ]
  },
  {
   "cell_type": "markdown",
   "metadata": {},
   "source": [
    "**1) Dadas las dos siguientes fechas, que corresponden a las fechas de nacimiento de dos hermanos (en la zona horaria de Europe/Madrid), indica cual es la diferencia entre ellos en días, horas, minutos y segundos**"
   ]
  },
  {
   "cell_type": "code",
   "execution_count": 32,
   "metadata": {},
   "outputs": [
    {
     "name": "stdout",
     "output_type": "stream",
     "text": [
      "relativedelta(years=+6, months=+8, days=+5, minutes=+35) <class 'dateutil.relativedelta.relativedelta'>\n",
      "La diferencia entre los hermanos es de: 6 años, 8 meses, 5 días, 35 minutos y 0 segundos.\n"
     ]
    }
   ],
   "source": [
    "# Completa el ejercicio aquí\n",
    "# Vamos a realizar una resta trabajando con años y meses ----> relativedelta().\n",
    "from datetime import *\n",
    "from dateutil.relativedelta import relativedelta \n",
    "\n",
    "date_hijo1 = datetime(1985, 10, 20, 17, 55)\n",
    "date_hijo2 = datetime(1992, 6, 25, 18, 30)\n",
    "\n",
    "# Realizamos la resta\n",
    "diferencia_entre_hijos = relativedelta(date_hijo2, date_hijo1)\n",
    "print(diferencia_entre_hijos, type(diferencia_entre_hijos))\n",
    "print(\"La diferencia entre los hermanos es de: {} años, {} meses, {} días, {} minutos y {} segundos.\".format(diferencia_entre_hijos.years,\n",
    "                                                                                               diferencia_entre_hijos.months,\n",
    "                                                                                               diferencia_entre_hijos.days,\n",
    "                                                                                               diferencia_entre_hijos.minutes,\n",
    "                                                                                               diferencia_entre_hijos.seconds))\n",
    "\n"
   ]
  },
  {
   "cell_type": "markdown",
   "metadata": {},
   "source": [
    "**2) Crea una función que se llame formato_fecha() que reciba por parámetro una fecha del tipo datetime y nos devuelva el siguiente formato: \"20 de Abril del 2020\".**\n",
    "\n",
    "**En muchas ocasiones nuestros sistemas estan configurados de forma predeterminada en inglés, y no se puede cambiar la localidad a español. Por lo tanto, tenemos que aprender a seleccionar y mostrar los meses en español a pesar de que nuestro sistema se encuentre en inglés o en otro idioma. Crear una tupla para almacenar el listado de meses en español para poder seleccionar el nombre del mes adecuado en función a una fecha que le proporcionemos al programa. Queda prohibído utilizar metodos como locale, setlocale o strftime.**\n",
    "\n",
    "**Prueba la función enviándole una fecha predefinida por ti y la fecha actual (now)**"
   ]
  },
  {
   "cell_type": "code",
   "execution_count": 29,
   "metadata": {},
   "outputs": [
    {
     "name": "stdout",
     "output_type": "stream",
     "text": [
      "2023-12-09 10:57:07.763048\n",
      "----\n",
      "9 de Diciembre del 2023\n",
      "----\n",
      "25 de Mayo del 2015\n",
      "----\n",
      "El atributo dentro de la función 'formato_fecha()' no es correcto! Introduce una fecha válida. | AttributeError |\n"
     ]
    }
   ],
   "source": [
    "# Nuestros imports necesarios\n",
    "from datetime import datetime, date, time, timedelta\n",
    "\n",
    "print(datetime.now())\n",
    "fecha_hora_actual = datetime.now()\n",
    "fecha_random1 = datetime(2015, 5, 25)\n",
    "\n",
    "#Creamos la función que recibirá una fecha en formato datetime\n",
    "def formato_fecha(date) -> str:\n",
    "    # Generamos nuestra tupla. Comprobamos que todo está en orden.\n",
    "    meses = ('Enero', 'Febrero', 'Marzo', 'Abril', 'Mayo', 'Junio', 'Julio', 'Agosto', 'Septiembre', 'Octubre', 'Noviembre', 'Diciembre')\n",
    "    try:\n",
    "        day = date.day\n",
    "        month = date.month\n",
    "        year = date.year\n",
    "    \n",
    "        # Realizamos la traducción del mes buscando por su posición dentro de la tupla\n",
    "        month_position = int(month)\n",
    "        month_extracted = meses[month_position - 1]\n",
    "\n",
    "        # Retornamos el string resultante    \n",
    "        return print(\"----\\n{} de {} del {}\".format(day, month_extracted, year))\n",
    "    except AttributeError as e:\n",
    "        print(\"----\\nEl atributo dentro de la función 'formato_fecha()' no es correcto! Introduce una fecha válida. |\", type(e).__name__, \"|\")\n",
    "    except Exception as e:\n",
    "        print(\"----\\nError desconocido: \", type(e).__name__)\n",
    "\n",
    "formato_fecha(fecha_hora_actual)\n",
    "formato_fecha(fecha_random1)\n",
    "formato_fecha(\"jbjkdjdv\")\n"
   ]
  },
  {
   "cell_type": "markdown",
   "metadata": {},
   "source": [
    "**3) Utilizando strftime y formatea la fecha actual para que salga con el siguiente formato (sin los puntos):**\n",
    "* Día: 20\n",
    "* Mes: 04\n",
    "* Año: 2020\n",
    "* Hora: 16\n",
    "* Minutos: 19\n",
    "* Segundos (y milisegundos): 08.879057"
   ]
  },
  {
   "cell_type": "code",
   "execution_count": 34,
   "metadata": {
    "scrolled": true
   },
   "outputs": [
    {
     "name": "stdout",
     "output_type": "stream",
     "text": [
      "Día: 5\n",
      "Mes: 12\n",
      "Año: 23\n",
      "Hora: 09\n",
      "Minutos: 34\n",
      "Segundo (y milisegundos): 17.647323\n"
     ]
    }
   ],
   "source": [
    "# Completa el ejercicio aquí\n",
    "from datetime import datetime\n",
    "\n",
    "fecha_hora_actual = datetime.now()\n",
    "\n",
    "# Creamos una función que recoja la fecha actual y transforme el resultado en el solicitado en el ejercicio\n",
    "def format_date(fecha) -> str:\n",
    "    return print(\"Día:{}\\nMes: {}\\nAño: {}\\nHora: {}\\nMinutos: {}\\nSegundo (y milisegundos): {}\".format(fecha.strftime(\"%e\"),\n",
    "                                                                                                          fecha.strftime(\"%m\"),\n",
    "                                                                                                          fecha.strftime(\"%g\"),\n",
    "                                                                                                          fecha.strftime(\"%H\"),\n",
    "                                                                                                          fecha.strftime(\"%M\"),\n",
    "                                                                                                          fecha.strftime(\"%S.%f\")))\n",
    "\n",
    "format_date(fecha_hora_actual)\n",
    "    "
   ]
  }
 ],
 "metadata": {
  "anaconda-cloud": {},
  "kernelspec": {
   "display_name": "Python 3",
   "language": "python",
   "name": "python3"
  },
  "language_info": {
   "codemirror_mode": {
    "name": "ipython",
    "version": 3
   },
   "file_extension": ".py",
   "mimetype": "text/x-python",
   "name": "python",
   "nbconvert_exporter": "python",
   "pygments_lexer": "ipython3",
   "version": "3.11.5"
  },
  "vscode": {
   "interpreter": {
    "hash": "aee8b7b246df8f9039afb4144a1f6fd8d2ca17a180786b69acc140d282b71a49"
   }
  }
 },
 "nbformat": 4,
 "nbformat_minor": 1
}
